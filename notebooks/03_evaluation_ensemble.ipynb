{
  "cells": [
    {
      "cell_type": "markdown",
      "metadata": {},
      "source": [
        "# 📊 IMDb Sentiment Analysis - Evaluation and Ensemble\n",
        "\n",
        "This notebook demonstrates comprehensive model evaluation and ensemble analysis including:\n",
        "- Detailed performance metrics\n",
        "- Confusion matrices and ROC curves\n",
        "- Feature importance analysis\n",
        "- Misclassification analysis\n",
        "- Interactive visualizations\n"
      ]
    }
  ],
  "metadata": {
    "language_info": {
      "name": "python"
    }
  },
  "nbformat": 4,
  "nbformat_minor": 2
}
