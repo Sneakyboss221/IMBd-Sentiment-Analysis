{
  "cells": [
    {
      "cell_type": "markdown",
      "metadata": {},
      "source": [
        "# 📊 IMDb Sentiment Analysis - Data Preprocessing\n",
        "\n",
        "This notebook demonstrates the complete data preprocessing pipeline for IMDb sentiment analysis, including:\n",
        "- Data loading and validation\n",
        "- Text cleaning and preprocessing\n",
        "- TF-IDF vectorization\n",
        "- Exploratory data analysis\n",
        "- Feature engineering\n"
      ]
    },
    {
      "cell_type": "markdown",
      "metadata": {},
      "source": [
        "## 1. Import Libraries and Setup\n"
      ]
    },
    {
      "cell_type": "code",
      "execution_count": null,
      "metadata": {},
      "outputs": [],
      "source": [
        "import pandas as pd\n",
        "import numpy as np\n",
        "import matplotlib.pyplot as plt\n",
        "import seaborn as sns\n",
        "import plotly.express as px\n",
        "import plotly.graph_objects as go\n",
        "from plotly.subplots import make_subplots\n",
        "import warnings\n",
        "warnings.filterwarnings('ignore')\n",
        "\n",
        "# Set style\n",
        "plt.style.use('default')\n",
        "sns.set_palette(\"husl\")\n",
        "\n",
        "# Add src to path\n",
        "import sys\n",
        "sys.path.append('../src')\n",
        "\n",
        "from preprocessing import TextPreprocessor, validate_data\n",
        "\n",
        "print(\"✅ Libraries imported successfully!\")\n"
      ]
    }
  ],
  "metadata": {
    "language_info": {
      "name": "python"
    }
  },
  "nbformat": 4,
  "nbformat_minor": 2
}
