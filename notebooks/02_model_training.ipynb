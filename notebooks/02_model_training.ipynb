{
  "cells": [
    {
      "cell_type": "markdown",
      "metadata": {},
      "source": [
        "# 🤖 IMDb Sentiment Analysis - Model Training\n",
        "\n",
        "This notebook demonstrates the complete model training pipeline including:\n",
        "- Logistic Regression with hyperparameter tuning\n",
        "- SVM with GridSearchCV\n",
        "- XGBoost with RandomizedSearchCV\n",
        "- Ensemble model creation\n",
        "- Model comparison and evaluation\n"
      ]
    }
  ],
  "metadata": {
    "language_info": {
      "name": "python"
    }
  },
  "nbformat": 4,
  "nbformat_minor": 2
}
